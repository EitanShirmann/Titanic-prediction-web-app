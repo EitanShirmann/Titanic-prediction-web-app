{
 "cells": [
  {
   "cell_type": "code",
   "execution_count": 181,
   "id": "0057cdbe",
   "metadata": {
    "_cell_guid": "b1076dfc-b9ad-4769-8c92-a6c4dae69d19",
    "_uuid": "8f2839f25d086af736a60e9eeb907d3b93b6e0e5",
    "execution": {
     "iopub.execute_input": "2021-11-23T08:30:02.025786Z",
     "iopub.status.busy": "2021-11-23T08:30:02.023830Z",
     "iopub.status.idle": "2021-11-23T08:30:03.133131Z",
     "shell.execute_reply": "2021-11-23T08:30:03.132436Z",
     "shell.execute_reply.started": "2021-11-23T08:29:24.381736Z"
    },
    "papermill": {
     "duration": 1.130328,
     "end_time": "2021-11-23T08:30:03.133302",
     "exception": false,
     "start_time": "2021-11-23T08:30:02.002974",
     "status": "completed"
    },
    "tags": []
   },
   "outputs": [],
   "source": [
    "import pandas as pd # data processing, CSV file I/O (e.g. pd.read_csv)\n",
    "from sklearn.pipeline import Pipeline\n",
    "from sklearn.preprocessing import PolynomialFeatures\n",
    "from sklearn.model_selection import GridSearchCV\n",
    "from sklearn.linear_model import LogisticRegression \n",
    "from sklearn.preprocessing import PowerTransformer, StandardScaler, OrdinalEncoder"
   ]
  },
  {
   "cell_type": "markdown",
   "id": "3fd58804",
   "metadata": {
    "papermill": {
     "duration": 0.014646,
     "end_time": "2021-11-23T08:30:03.163152",
     "exception": false,
     "start_time": "2021-11-23T08:30:03.148506",
     "status": "completed"
    },
    "tags": []
   },
   "source": [
    "# First I will do all the dropping and renaming"
   ]
  },
  {
   "cell_type": "code",
   "execution_count": 182,
   "id": "e1e31515",
   "metadata": {},
   "outputs": [],
   "source": [
    "X_train = pd.read_csv(\"train.csv\")\n",
    "y_train = X_train[\"Survived\"]\n",
    "X_train = X_train.drop([\"PassengerId\", \"Name\", \"Ticket\", \"Cabin\", \"Survived\"], axis=1)"
   ]
  },
  {
   "cell_type": "markdown",
   "id": "7fabcecb",
   "metadata": {},
   "source": [
    "# The magic function"
   ]
  },
  {
   "cell_type": "code",
   "execution_count": 183,
   "id": "f6c9ae75",
   "metadata": {},
   "outputs": [],
   "source": [
    "\n",
    "# def separate(df):\n",
    "#     return df[[\"Age\",\"Fare\"]], df[[\"Pclass\", \"Sex\", \"SibSp\", \"Parch\", \"Embarked\"]]\n",
    "\n",
    "# le = pd.read_pickle(\"le.pickle\")\n",
    "# pf = pd.read_pickle(\"pf.pickle\")\n",
    "# ps = pd.read_pickle(\"ps.pickle\")\n",
    "# lr = pd.read_pickle(\"lr.pickle\")\n",
    "# def transform(X):\n",
    "#     X = pd.DataFrame([X])\n",
    "#     X = X.rename(columns={0: 'Age', 1: 'Fare', 2:\"Pclass\",3:\"Sex\",4:\"SibSp\",5:\"Parch\",6:\"Embarked\"})\n",
    "\n",
    "#     train_cont_toy,train_discr_toy = separate(X_train)\n",
    "#     train_discr_toy_no_col = le.transform(train_discr_toy)\n",
    "#     train_discr_toy = pd.DataFrame(train_discr_toy_no_col, columns = train_discr_toy.columns)\n",
    "    \n",
    "#     train_discr_toy = train_discr_toy.fillna(train_discr_toy.median())\n",
    "\n",
    "\n",
    "#     train_cont_toy = pf.transform(train_discr_toy)\n",
    "\n",
    "\n",
    "    \n",
    "\n",
    "#     X_test_toy = pd.concat([pd.DataFrame(train_cont_toy), pd.DataFrame(train_discr_toy).astype(\"int16\")], axis=1)\n",
    "#     X_test_toy = ps.transform(X_test_toy)\n",
    "#     y_pred = lr.predict(X_test_toy)\n",
    "\n",
    "\n",
    "\n",
    "    \n",
    "\n",
    "    \n",
    "    "
   ]
  },
  {
   "cell_type": "markdown",
   "id": "bdce4ea9",
   "metadata": {
    "papermill": {
     "duration": 0.016607,
     "end_time": "2021-11-23T08:30:03.299647",
     "exception": false,
     "start_time": "2021-11-23T08:30:03.283040",
     "status": "completed"
    },
    "tags": []
   },
   "source": [
    "# Splitting into two arrays"
   ]
  },
  {
   "cell_type": "code",
   "execution_count": 184,
   "id": "dc6db3be",
   "metadata": {
    "execution": {
     "iopub.execute_input": "2021-11-23T08:30:03.336240Z",
     "iopub.status.busy": "2021-11-23T08:30:03.335561Z",
     "iopub.status.idle": "2021-11-23T08:30:03.339282Z",
     "shell.execute_reply": "2021-11-23T08:30:03.339831Z",
     "shell.execute_reply.started": "2021-11-23T08:29:24.447923Z"
    },
    "papermill": {
     "duration": 0.022797,
     "end_time": "2021-11-23T08:30:03.340015",
     "exception": false,
     "start_time": "2021-11-23T08:30:03.317218",
     "status": "completed"
    },
    "tags": []
   },
   "outputs": [],
   "source": [
    "def separate(df):\n",
    "    return df[[\"Age\",\"Fare\"]], df[[\"Pclass\", \"Sex\", \"SibSp\", \"Parch\", \"Embarked\"]]"
   ]
  },
  {
   "cell_type": "code",
   "execution_count": 185,
   "id": "b6ffa0ad",
   "metadata": {
    "execution": {
     "iopub.execute_input": "2021-11-23T08:30:03.373685Z",
     "iopub.status.busy": "2021-11-23T08:30:03.373017Z",
     "iopub.status.idle": "2021-11-23T08:30:03.379978Z",
     "shell.execute_reply": "2021-11-23T08:30:03.380573Z",
     "shell.execute_reply.started": "2021-11-23T08:29:24.457178Z"
    },
    "papermill": {
     "duration": 0.025577,
     "end_time": "2021-11-23T08:30:03.380749",
     "exception": false,
     "start_time": "2021-11-23T08:30:03.355172",
     "status": "completed"
    },
    "tags": []
   },
   "outputs": [],
   "source": [
    "train_cont,train_discr = separate(X_train)"
   ]
  },
  {
   "cell_type": "markdown",
   "id": "7a679c74",
   "metadata": {
    "papermill": {
     "duration": 0.01499,
     "end_time": "2021-11-23T08:30:03.410841",
     "exception": false,
     "start_time": "2021-11-23T08:30:03.395851",
     "status": "completed"
    },
    "tags": []
   },
   "source": [
    "# Filling the NANs"
   ]
  },
  {
   "cell_type": "code",
   "execution_count": 186,
   "id": "9babbc4a",
   "metadata": {
    "execution": {
     "iopub.execute_input": "2021-11-23T08:30:03.444054Z",
     "iopub.status.busy": "2021-11-23T08:30:03.443405Z",
     "iopub.status.idle": "2021-11-23T08:30:03.453881Z",
     "shell.execute_reply": "2021-11-23T08:30:03.454466Z",
     "shell.execute_reply.started": "2021-11-23T08:29:24.487940Z"
    },
    "papermill": {
     "duration": 0.02873,
     "end_time": "2021-11-23T08:30:03.454647",
     "exception": false,
     "start_time": "2021-11-23T08:30:03.425917",
     "status": "completed"
    },
    "tags": []
   },
   "outputs": [],
   "source": [
    "train_cont = train_cont.fillna(train_cont.mean())\n",
    "\n",
    "\n",
    "\n",
    "\n",
    "le = OrdinalEncoder()\n",
    "train_discr_no_col = le.fit_transform(train_discr)\n",
    "train_discr = pd.DataFrame(train_discr_no_col, columns = train_discr.columns)\n",
    "\n",
    "train_discr = train_discr.fillna(train_discr.median())\n",
    "pd.to_pickle(le, \"le.pickle\")"
   ]
  },
  {
   "cell_type": "markdown",
   "id": "73c78a0b",
   "metadata": {
    "papermill": {
     "duration": 0.014791,
     "end_time": "2021-11-23T08:30:03.484465",
     "exception": false,
     "start_time": "2021-11-23T08:30:03.469674",
     "status": "completed"
    },
    "tags": []
   },
   "source": [
    "# Poly the conts"
   ]
  },
  {
   "cell_type": "code",
   "execution_count": 187,
   "id": "30cd1d52",
   "metadata": {
    "execution": {
     "iopub.execute_input": "2021-11-23T08:30:03.519876Z",
     "iopub.status.busy": "2021-11-23T08:30:03.519207Z",
     "iopub.status.idle": "2021-11-23T08:30:03.534941Z",
     "shell.execute_reply": "2021-11-23T08:30:03.534405Z",
     "shell.execute_reply.started": "2021-11-23T08:29:24.505796Z"
    },
    "papermill": {
     "duration": 0.033778,
     "end_time": "2021-11-23T08:30:03.535109",
     "exception": false,
     "start_time": "2021-11-23T08:30:03.501331",
     "status": "completed"
    },
    "tags": []
   },
   "outputs": [],
   "source": [
    "pf = PolynomialFeatures(3)\n",
    "train_cont = pf.fit_transform(train_cont)\n",
    "train_discr.head()\n",
    "pd.to_pickle(pf,\"pf.pickle\")"
   ]
  },
  {
   "cell_type": "code",
   "execution_count": 188,
   "id": "8fc26151",
   "metadata": {},
   "outputs": [
    {
     "data": {
      "text/plain": [
       "Pclass      0\n",
       "Sex         0\n",
       "SibSp       0\n",
       "Parch       0\n",
       "Embarked    0\n",
       "dtype: int64"
      ]
     },
     "execution_count": 188,
     "metadata": {},
     "output_type": "execute_result"
    }
   ],
   "source": [
    "train_discr.isna().sum()"
   ]
  },
  {
   "cell_type": "markdown",
   "id": "3ec630a7",
   "metadata": {
    "papermill": {
     "duration": 0.016167,
     "end_time": "2021-11-23T08:30:03.567406",
     "exception": false,
     "start_time": "2021-11-23T08:30:03.551239",
     "status": "completed"
    },
    "tags": []
   },
   "source": [
    "# Merge them back together"
   ]
  },
  {
   "cell_type": "code",
   "execution_count": 189,
   "id": "6e274d8b",
   "metadata": {
    "execution": {
     "iopub.execute_input": "2021-11-23T08:30:03.603075Z",
     "iopub.status.busy": "2021-11-23T08:30:03.601962Z",
     "iopub.status.idle": "2021-11-23T08:30:03.609973Z",
     "shell.execute_reply": "2021-11-23T08:30:03.610578Z",
     "shell.execute_reply.started": "2021-11-23T08:29:24.525980Z"
    },
    "papermill": {
     "duration": 0.027867,
     "end_time": "2021-11-23T08:30:03.610759",
     "exception": false,
     "start_time": "2021-11-23T08:30:03.582892",
     "status": "completed"
    },
    "tags": []
   },
   "outputs": [],
   "source": [
    "\n",
    "\n",
    "X_train = pd.concat([pd.DataFrame(train_cont), pd.DataFrame(train_discr).astype(\"int16\")], axis=1)\n"
   ]
  },
  {
   "cell_type": "markdown",
   "id": "3b5c23ea",
   "metadata": {
    "papermill": {
     "duration": 0.015876,
     "end_time": "2021-11-23T08:30:03.642388",
     "exception": false,
     "start_time": "2021-11-23T08:30:03.626512",
     "status": "completed"
    },
    "tags": []
   },
   "source": [
    "# Now do all the scaling"
   ]
  },
  {
   "cell_type": "code",
   "execution_count": 190,
   "id": "bc0566c9",
   "metadata": {
    "execution": {
     "iopub.execute_input": "2021-11-23T08:30:03.678073Z",
     "iopub.status.busy": "2021-11-23T08:30:03.676678Z",
     "iopub.status.idle": "2021-11-23T08:30:03.760213Z",
     "shell.execute_reply": "2021-11-23T08:30:03.760754Z",
     "shell.execute_reply.started": "2021-11-23T08:29:24.539416Z"
    },
    "papermill": {
     "duration": 0.102847,
     "end_time": "2021-11-23T08:30:03.760948",
     "exception": false,
     "start_time": "2021-11-23T08:30:03.658101",
     "status": "completed"
    },
    "tags": []
   },
   "outputs": [
    {
     "name": "stderr",
     "output_type": "stream",
     "text": [
      "C:\\Users\\eitan.shirman\\AppData\\Local\\Programs\\Python\\Python39\\lib\\site-packages\\sklearn\\utils\\validation.py:1675: FutureWarning: Feature names only support names that are all strings. Got feature names with dtypes: ['int', 'str']. An error will be raised in 1.2.\n",
      "  warnings.warn(\n",
      "C:\\Users\\eitan.shirman\\AppData\\Local\\Programs\\Python\\Python39\\lib\\site-packages\\sklearn\\preprocessing\\_data.py:3253: RuntimeWarning: divide by zero encountered in log\n",
      "  loglike = -n_samples / 2 * np.log(x_trans.var())\n"
     ]
    },
    {
     "ename": "TypeError",
     "evalue": "cannot pickle 'module' object",
     "output_type": "error",
     "traceback": [
      "\u001b[1;31m---------------------------------------------------------------------------\u001b[0m",
      "\u001b[1;31mTypeError\u001b[0m                                 Traceback (most recent call last)",
      "\u001b[1;32mC:\\Users\\EITAN~1.SHI\\AppData\\Local\\Temp/ipykernel_6964/133182581.py\u001b[0m in \u001b[0;36m<module>\u001b[1;34m\u001b[0m\n\u001b[0;32m      1\u001b[0m \u001b[0mps\u001b[0m \u001b[1;33m=\u001b[0m \u001b[0mPowerTransformer\u001b[0m\u001b[1;33m(\u001b[0m\u001b[1;33m)\u001b[0m\u001b[1;33m\u001b[0m\u001b[1;33m\u001b[0m\u001b[0m\n\u001b[0;32m      2\u001b[0m \u001b[0mX_train\u001b[0m \u001b[1;33m=\u001b[0m \u001b[0mps\u001b[0m\u001b[1;33m.\u001b[0m\u001b[0mfit_transform\u001b[0m\u001b[1;33m(\u001b[0m\u001b[0mX_train\u001b[0m\u001b[1;33m)\u001b[0m\u001b[1;33m\u001b[0m\u001b[1;33m\u001b[0m\u001b[0m\n\u001b[1;32m----> 3\u001b[1;33m \u001b[0mpd\u001b[0m\u001b[1;33m.\u001b[0m\u001b[0mto_pickle\u001b[0m\u001b[1;33m(\u001b[0m\u001b[0mpd\u001b[0m\u001b[1;33m,\u001b[0m \u001b[1;34m\"ps.pickle\"\u001b[0m\u001b[1;33m)\u001b[0m\u001b[1;33m\u001b[0m\u001b[1;33m\u001b[0m\u001b[0m\n\u001b[0m",
      "\u001b[1;32m~\\AppData\\Local\\Programs\\Python\\Python39\\lib\\site-packages\\pandas\\io\\pickle.py\u001b[0m in \u001b[0;36mto_pickle\u001b[1;34m(obj, filepath_or_buffer, compression, protocol, storage_options)\u001b[0m\n\u001b[0;32m    111\u001b[0m         \u001b[1;32melse\u001b[0m\u001b[1;33m:\u001b[0m\u001b[1;33m\u001b[0m\u001b[1;33m\u001b[0m\u001b[0m\n\u001b[0;32m    112\u001b[0m             \u001b[1;31m# letting pickle write directly to the buffer is more memory-efficient\u001b[0m\u001b[1;33m\u001b[0m\u001b[1;33m\u001b[0m\u001b[0m\n\u001b[1;32m--> 113\u001b[1;33m             pickle.dump(\n\u001b[0m\u001b[0;32m    114\u001b[0m                 \u001b[1;31m# error: Argument 2 to \"dump\" has incompatible type \"Union[IO[Any],\u001b[0m\u001b[1;33m\u001b[0m\u001b[1;33m\u001b[0m\u001b[0m\n\u001b[0;32m    115\u001b[0m                 \u001b[1;31m# RawIOBase, BufferedIOBase, TextIOBase, TextIOWrapper, mmap]\"; expected\u001b[0m\u001b[1;33m\u001b[0m\u001b[1;33m\u001b[0m\u001b[0m\n",
      "\u001b[1;31mTypeError\u001b[0m: cannot pickle 'module' object"
     ]
    }
   ],
   "source": [
    "ps = PowerTransformer()\n",
    "X_train = ps.fit_transform(X_train)\n",
    "pd.to_pickle(ps, \"ps.pickle\")"
   ]
  },
  {
   "cell_type": "markdown",
   "id": "94fba8d6",
   "metadata": {
    "papermill": {
     "duration": 0.015721,
     "end_time": "2021-11-23T08:30:03.792623",
     "exception": false,
     "start_time": "2021-11-23T08:30:03.776902",
     "status": "completed"
    },
    "tags": []
   },
   "source": [
    "# Finally, regression"
   ]
  },
  {
   "cell_type": "code",
   "execution_count": null,
   "id": "4361a1a7",
   "metadata": {
    "execution": {
     "iopub.execute_input": "2021-11-23T08:30:03.829220Z",
     "iopub.status.busy": "2021-11-23T08:30:03.828536Z",
     "iopub.status.idle": "2021-11-23T08:30:03.870978Z",
     "shell.execute_reply": "2021-11-23T08:30:03.872122Z",
     "shell.execute_reply.started": "2021-11-23T08:29:24.638922Z"
    },
    "papermill": {
     "duration": 0.063061,
     "end_time": "2021-11-23T08:30:03.872574",
     "exception": false,
     "start_time": "2021-11-23T08:30:03.809513",
     "status": "completed"
    },
    "tags": []
   },
   "outputs": [
    {
     "data": {
      "text/plain": [
       "LogisticRegression()"
      ]
     },
     "execution_count": 179,
     "metadata": {},
     "output_type": "execute_result"
    }
   ],
   "source": [
    "lr = LogisticRegression()\n",
    "\n",
    "lr.fit(X_train, y_train)\n",
    "pd.to_pickle(lr, \"lr.pickle\")"
   ]
  },
  {
   "cell_type": "code",
   "execution_count": null,
   "id": "003bc158",
   "metadata": {},
   "outputs": [
    {
     "data": {
      "text/html": [
       "<div>\n",
       "<style scoped>\n",
       "    .dataframe tbody tr th:only-of-type {\n",
       "        vertical-align: middle;\n",
       "    }\n",
       "\n",
       "    .dataframe tbody tr th {\n",
       "        vertical-align: top;\n",
       "    }\n",
       "\n",
       "    .dataframe thead th {\n",
       "        text-align: right;\n",
       "    }\n",
       "</style>\n",
       "<table border=\"1\" class=\"dataframe\">\n",
       "  <thead>\n",
       "    <tr style=\"text-align: right;\">\n",
       "      <th></th>\n",
       "      <th>0</th>\n",
       "      <th>1</th>\n",
       "      <th>2</th>\n",
       "      <th>3</th>\n",
       "      <th>4</th>\n",
       "      <th>5</th>\n",
       "      <th>6</th>\n",
       "      <th>7</th>\n",
       "      <th>8</th>\n",
       "      <th>9</th>\n",
       "      <th>10</th>\n",
       "      <th>11</th>\n",
       "      <th>12</th>\n",
       "      <th>13</th>\n",
       "      <th>14</th>\n",
       "    </tr>\n",
       "  </thead>\n",
       "  <tbody>\n",
       "    <tr>\n",
       "      <th>886</th>\n",
       "      <td>0.0</td>\n",
       "      <td>-0.164262</td>\n",
       "      <td>-0.294907</td>\n",
       "      <td>-0.162789</td>\n",
       "      <td>-0.236321</td>\n",
       "      <td>-0.281706</td>\n",
       "      <td>-0.162603</td>\n",
       "      <td>-0.218777</td>\n",
       "      <td>-0.257680</td>\n",
       "      <td>-0.279785</td>\n",
       "      <td>-0.542051</td>\n",
       "      <td>0.737695</td>\n",
       "      <td>-0.679956</td>\n",
       "      <td>-0.560253</td>\n",
       "      <td>0.610411</td>\n",
       "    </tr>\n",
       "    <tr>\n",
       "      <th>887</th>\n",
       "      <td>0.0</td>\n",
       "      <td>-0.798775</td>\n",
       "      <td>0.527906</td>\n",
       "      <td>-0.798775</td>\n",
       "      <td>0.121263</td>\n",
       "      <td>0.555182</td>\n",
       "      <td>-0.797641</td>\n",
       "      <td>-0.145333</td>\n",
       "      <td>0.316746</td>\n",
       "      <td>0.557258</td>\n",
       "      <td>-1.485485</td>\n",
       "      <td>-1.355574</td>\n",
       "      <td>-0.679956</td>\n",
       "      <td>-0.560253</td>\n",
       "      <td>0.610411</td>\n",
       "    </tr>\n",
       "    <tr>\n",
       "      <th>888</th>\n",
       "      <td>0.0</td>\n",
       "      <td>0.042001</td>\n",
       "      <td>0.288885</td>\n",
       "      <td>0.043555</td>\n",
       "      <td>0.275173</td>\n",
       "      <td>0.316823</td>\n",
       "      <td>0.043505</td>\n",
       "      <td>0.234304</td>\n",
       "      <td>0.296473</td>\n",
       "      <td>0.319257</td>\n",
       "      <td>0.856623</td>\n",
       "      <td>-1.355574</td>\n",
       "      <td>1.375734</td>\n",
       "      <td>1.846856</td>\n",
       "      <td>0.610411</td>\n",
       "    </tr>\n",
       "    <tr>\n",
       "      <th>889</th>\n",
       "      <td>0.0</td>\n",
       "      <td>-0.241577</td>\n",
       "      <td>0.527906</td>\n",
       "      <td>-0.240180</td>\n",
       "      <td>0.363851</td>\n",
       "      <td>0.555182</td>\n",
       "      <td>-0.239895</td>\n",
       "      <td>0.222136</td>\n",
       "      <td>0.455607</td>\n",
       "      <td>0.557258</td>\n",
       "      <td>-1.485485</td>\n",
       "      <td>0.737695</td>\n",
       "      <td>-0.679956</td>\n",
       "      <td>-0.560253</td>\n",
       "      <td>-1.780520</td>\n",
       "    </tr>\n",
       "    <tr>\n",
       "      <th>890</th>\n",
       "      <td>0.0</td>\n",
       "      <td>0.215254</td>\n",
       "      <td>-0.812349</td>\n",
       "      <td>0.216753</td>\n",
       "      <td>-0.480006</td>\n",
       "      <td>-0.837872</td>\n",
       "      <td>0.216535</td>\n",
       "      <td>-0.313998</td>\n",
       "      <td>-0.624600</td>\n",
       "      <td>-0.840242</td>\n",
       "      <td>0.856623</td>\n",
       "      <td>0.737695</td>\n",
       "      <td>-0.679956</td>\n",
       "      <td>-0.560253</td>\n",
       "      <td>-1.236339</td>\n",
       "    </tr>\n",
       "  </tbody>\n",
       "</table>\n",
       "</div>"
      ],
      "text/plain": [
       "      0         1         2         3         4         5         6   \\\n",
       "886  0.0 -0.164262 -0.294907 -0.162789 -0.236321 -0.281706 -0.162603   \n",
       "887  0.0 -0.798775  0.527906 -0.798775  0.121263  0.555182 -0.797641   \n",
       "888  0.0  0.042001  0.288885  0.043555  0.275173  0.316823  0.043505   \n",
       "889  0.0 -0.241577  0.527906 -0.240180  0.363851  0.555182 -0.239895   \n",
       "890  0.0  0.215254 -0.812349  0.216753 -0.480006 -0.837872  0.216535   \n",
       "\n",
       "           7         8         9         10        11        12        13  \\\n",
       "886 -0.218777 -0.257680 -0.279785 -0.542051  0.737695 -0.679956 -0.560253   \n",
       "887 -0.145333  0.316746  0.557258 -1.485485 -1.355574 -0.679956 -0.560253   \n",
       "888  0.234304  0.296473  0.319257  0.856623 -1.355574  1.375734  1.846856   \n",
       "889  0.222136  0.455607  0.557258 -1.485485  0.737695 -0.679956 -0.560253   \n",
       "890 -0.313998 -0.624600 -0.840242  0.856623  0.737695 -0.679956 -0.560253   \n",
       "\n",
       "           14  \n",
       "886  0.610411  \n",
       "887  0.610411  \n",
       "888  0.610411  \n",
       "889 -1.780520  \n",
       "890 -1.236339  "
      ]
     },
     "execution_count": 180,
     "metadata": {},
     "output_type": "execute_result"
    }
   ],
   "source": [
    "pd.DataFrame(X_train).tail()\n"
   ]
  }
 ],
 "metadata": {
  "kernelspec": {
   "display_name": "Python 3",
   "language": "python",
   "name": "python3"
  },
  "language_info": {
   "codemirror_mode": {
    "name": "ipython",
    "version": 3
   },
   "file_extension": ".py",
   "mimetype": "text/x-python",
   "name": "python",
   "nbconvert_exporter": "python",
   "pygments_lexer": "ipython3",
   "version": "3.9.9"
  },
  "papermill": {
   "default_parameters": {},
   "duration": 12.272074,
   "end_time": "2021-11-23T08:30:04.796103",
   "environment_variables": {},
   "exception": null,
   "input_path": "__notebook__.ipynb",
   "output_path": "__notebook__.ipynb",
   "parameters": {},
   "start_time": "2021-11-23T08:29:52.524029",
   "version": "2.3.3"
  }
 },
 "nbformat": 4,
 "nbformat_minor": 5
}
